{
 "cells": [
  {
   "cell_type": "code",
   "execution_count": 1,
   "id": "5dfa9b3e",
   "metadata": {
    "_cell_guid": "b1076dfc-b9ad-4769-8c92-a6c4dae69d19",
    "_uuid": "8f2839f25d086af736a60e9eeb907d3b93b6e0e5",
    "execution": {
     "iopub.execute_input": "2024-07-06T18:10:50.453679Z",
     "iopub.status.busy": "2024-07-06T18:10:50.452161Z",
     "iopub.status.idle": "2024-07-06T18:10:54.910403Z",
     "shell.execute_reply": "2024-07-06T18:10:54.909203Z"
    },
    "papermill": {
     "duration": 4.467972,
     "end_time": "2024-07-06T18:10:54.913119",
     "exception": false,
     "start_time": "2024-07-06T18:10:50.445147",
     "status": "completed"
    },
    "tags": []
   },
   "outputs": [],
   "source": [
    "import pandas as pd\n",
    "import numpy as np\n",
    "import statsmodels.api as sm\n",
    "\n",
    "file_path = \"/kaggle/input/global-air-pollution-dataset/global air pollution dataset.csv\"\n",
    "data = pd.read_csv(file_path)\n",
    "\n",
    "data.replace([np.inf, -np.inf], np.nan, inplace=True)\n",
    "data = data.dropna()\n",
    "data = data.drop_duplicates()"
   ]
  },
  {
   "cell_type": "markdown",
   "id": "2a6be8b3",
   "metadata": {
    "papermill": {
     "duration": 0.004389,
     "end_time": "2024-07-06T18:10:54.922926",
     "exception": false,
     "start_time": "2024-07-06T18:10:54.918537",
     "status": "completed"
    },
    "tags": []
   },
   "source": [
    "# Розрахунок описової статистики\n",
    "Обчислимо детальну описову статистику та визначимо будь-які викиди в наборі даних."
   ]
  },
  {
   "cell_type": "code",
   "execution_count": 2,
   "id": "bd381298",
   "metadata": {
    "execution": {
     "iopub.execute_input": "2024-07-06T18:10:54.933615Z",
     "iopub.status.busy": "2024-07-06T18:10:54.933230Z",
     "iopub.status.idle": "2024-07-06T18:10:54.992409Z",
     "shell.execute_reply": "2024-07-06T18:10:54.991255Z"
    },
    "papermill": {
     "duration": 0.067869,
     "end_time": "2024-07-06T18:10:54.995002",
     "exception": false,
     "start_time": "2024-07-06T18:10:54.927133",
     "status": "completed"
    },
    "tags": []
   },
   "outputs": [
    {
     "data": {
      "text/plain": [
       "(          AQI Value  CO AQI Value  Ozone AQI Value  NO2 AQI Value  \\\n",
       " count  23035.000000  23035.000000     23035.000000   23035.000000   \n",
       " mean      72.344693      1.376254        35.233905       3.084741   \n",
       " std       56.360992      1.844926        28.236613       5.281708   \n",
       " min        6.000000      0.000000         0.000000       0.000000   \n",
       " 25%       39.000000      1.000000        21.000000       0.000000   \n",
       " 50%       55.000000      1.000000        31.000000       1.000000   \n",
       " 75%       80.000000      1.000000        40.000000       4.000000   \n",
       " max      500.000000    133.000000       235.000000      91.000000   \n",
       " \n",
       "        PM2.5 AQI Value  \n",
       " count     23035.000000  \n",
       " mean         68.883482  \n",
       " std          55.057396  \n",
       " min           0.000000  \n",
       " 25%          35.000000  \n",
       " 50%          54.000000  \n",
       " 75%          79.000000  \n",
       " max         500.000000  ,\n",
       " 2875,\n",
       " 8442,\n",
       " 1500,\n",
       " 1670,\n",
       " 2628)"
      ]
     },
     "execution_count": 2,
     "metadata": {},
     "output_type": "execute_result"
    }
   ],
   "source": [
    "# Calculate descriptive statistics\n",
    "descriptive_stats = data.describe()\n",
    "\n",
    "# Identify outliers using the IQR method for each AQI Value column\n",
    "def identify_outliers(column):\n",
    "    Q1 = data[column].quantile(0.25)\n",
    "    Q3 = data[column].quantile(0.75)\n",
    "    IQR = Q3 - Q1\n",
    "    lower_bound = Q1 - 1.5 * IQR\n",
    "    upper_bound = Q3 + 1.5 * IQR\n",
    "    outliers = data[(data[column] < lower_bound) | (data[column] > upper_bound)]\n",
    "    return outliers\n",
    "\n",
    "# Identify outliers for each AQI value\n",
    "outliers_aqi = identify_outliers('AQI Value')\n",
    "outliers_co = identify_outliers('CO AQI Value')\n",
    "outliers_ozone = identify_outliers('Ozone AQI Value')\n",
    "outliers_no2 = identify_outliers('NO2 AQI Value')\n",
    "outliers_pm25 = identify_outliers('PM2.5 AQI Value')\n",
    "\n",
    "descriptive_stats, outliers_aqi.shape[0], outliers_co.shape[0], outliers_ozone.shape[0], outliers_no2.shape[0], outliers_pm25.shape[0]"
   ]
  },
  {
   "cell_type": "markdown",
   "id": "64daa1ec",
   "metadata": {
    "papermill": {
     "duration": 0.003749,
     "end_time": "2024-07-06T18:10:55.002829",
     "exception": false,
     "start_time": "2024-07-06T18:10:54.999080",
     "status": "completed"
    },
    "tags": []
   },
   "source": [
    "- Середнє значення AQI становить 72,34 із стандартним відхиленням 56,36. Мінімальне  значення AQI становить 6, а максимальне – 500, що свідчить про значну мінливість якості повітря.\n",
    "- Значення CO AQI відносно низькі, із середнім значенням 1,38 і стандартним відхиленням 1,84. Значення в діапазоні від 0 до 133, вказуючи на те, що хоча більшість значень є низькими, є деякі екстремальні випадки.\n",
    "- Значення AQI озону мають середнє значення 35,23 і стандартне відхилення 28,24, що свідчить про помірну мінливість.\n",
    "- Значення NO2 AQI, як правило, низькі, із середнім значенням 3,08 і стандартним відхиленням 5,28.\n",
    "- Значення AQI PM2,5 мають середнє значення 68,88 і стандартне відхилення 55,06, що вказує на значну варіабельність.\n",
    "- У даних про значення індексу якості повітря (AQI) є 2875 викидів, що вказує на значну кількість екстремальних значень.\n",
    "- Дані про значення CO AQI мають дуже велику кількість викидів, 8442, що свідчить про багато екстремальних значень у наборі даних.\n",
    "- Для значень AQI озону існує 1500 викидів, що вказує на значну мінливість і екстремальні значення.\n",
    "- Дані про значення NO2 AQI містять 1670 викидів, що вказує на наявність кількох екстремальних значень.\n",
    "- Значення AQI PM2,5 мають 2628 викидів, що відображає значну мінливість і багато екстремальних значень у наборі даних."
   ]
  },
  {
   "cell_type": "markdown",
   "id": "9acc81e6",
   "metadata": {
    "papermill": {
     "duration": 0.003752,
     "end_time": "2024-07-06T18:10:55.011451",
     "exception": false,
     "start_time": "2024-07-06T18:10:55.007699",
     "status": "completed"
    },
    "tags": []
   },
   "source": [
    "# Створення математичної моделі\n",
    "Створимо багатофакторну регресійну модель для аналізу зв’язку між значеннями AQI та значеннями AQI окремих забруднюючих речовин(CO, Ozone, $NO_2$, $PM_{2.5}$)."
   ]
  },
  {
   "cell_type": "code",
   "execution_count": 3,
   "id": "29ad49c0",
   "metadata": {
    "execution": {
     "iopub.execute_input": "2024-07-06T18:10:55.022251Z",
     "iopub.status.busy": "2024-07-06T18:10:55.020999Z",
     "iopub.status.idle": "2024-07-06T18:10:55.136058Z",
     "shell.execute_reply": "2024-07-06T18:10:55.134467Z"
    },
    "papermill": {
     "duration": 0.125351,
     "end_time": "2024-07-06T18:10:55.140807",
     "exception": false,
     "start_time": "2024-07-06T18:10:55.015456",
     "status": "completed"
    },
    "tags": []
   },
   "outputs": [
    {
     "data": {
      "text/html": [
       "<table class=\"simpletable\">\n",
       "<caption>OLS Regression Results</caption>\n",
       "<tr>\n",
       "  <th>Dep. Variable:</th>        <td>AQI Value</td>    <th>  R-squared:         </th> <td>   0.975</td> \n",
       "</tr>\n",
       "<tr>\n",
       "  <th>Model:</th>                   <td>OLS</td>       <th>  Adj. R-squared:    </th> <td>   0.975</td> \n",
       "</tr>\n",
       "<tr>\n",
       "  <th>Method:</th>             <td>Least Squares</td>  <th>  F-statistic:       </th> <td>2.228e+05</td>\n",
       "</tr>\n",
       "<tr>\n",
       "  <th>Date:</th>             <td>Sat, 06 Jul 2024</td> <th>  Prob (F-statistic):</th>  <td>  0.00</td>  \n",
       "</tr>\n",
       "<tr>\n",
       "  <th>Time:</th>                 <td>18:10:55</td>     <th>  Log-Likelihood:    </th> <td> -83158.</td> \n",
       "</tr>\n",
       "<tr>\n",
       "  <th>No. Observations:</th>      <td> 23035</td>      <th>  AIC:               </th> <td>1.663e+05</td>\n",
       "</tr>\n",
       "<tr>\n",
       "  <th>Df Residuals:</th>          <td> 23030</td>      <th>  BIC:               </th> <td>1.664e+05</td>\n",
       "</tr>\n",
       "<tr>\n",
       "  <th>Df Model:</th>              <td>     4</td>      <th>                     </th>     <td> </td>    \n",
       "</tr>\n",
       "<tr>\n",
       "  <th>Covariance Type:</th>      <td>nonrobust</td>    <th>                     </th>     <td> </td>    \n",
       "</tr>\n",
       "</table>\n",
       "<table class=\"simpletable\">\n",
       "<tr>\n",
       "         <td></td>            <th>coef</th>     <th>std err</th>      <th>t</th>      <th>P>|t|</th>  <th>[0.025</th>    <th>0.975]</th>  \n",
       "</tr>\n",
       "<tr>\n",
       "  <th>const</th>           <td>   -0.6432</td> <td>    0.112</td> <td>   -5.721</td> <td> 0.000</td> <td>   -0.864</td> <td>   -0.423</td>\n",
       "</tr>\n",
       "<tr>\n",
       "  <th>CO AQI Value</th>    <td>    0.0109</td> <td>    0.040</td> <td>    0.273</td> <td> 0.785</td> <td>   -0.067</td> <td>    0.089</td>\n",
       "</tr>\n",
       "<tr>\n",
       "  <th>Ozone AQI Value</th> <td>    0.1556</td> <td>    0.002</td> <td>   66.208</td> <td> 0.000</td> <td>    0.151</td> <td>    0.160</td>\n",
       "</tr>\n",
       "<tr>\n",
       "  <th>NO2 AQI Value</th>   <td>   -0.0368</td> <td>    0.014</td> <td>   -2.714</td> <td> 0.007</td> <td>   -0.063</td> <td>   -0.010</td>\n",
       "</tr>\n",
       "<tr>\n",
       "  <th>PM2.5 AQI Value</th> <td>    0.9814</td> <td>    0.001</td> <td>  772.464</td> <td> 0.000</td> <td>    0.979</td> <td>    0.984</td>\n",
       "</tr>\n",
       "</table>\n",
       "<table class=\"simpletable\">\n",
       "<tr>\n",
       "  <th>Omnibus:</th>       <td>22523.913</td> <th>  Durbin-Watson:     </th>  <td>   1.987</td>  \n",
       "</tr>\n",
       "<tr>\n",
       "  <th>Prob(Omnibus):</th>  <td> 0.000</td>   <th>  Jarque-Bera (JB):  </th> <td>1847377.782</td>\n",
       "</tr>\n",
       "<tr>\n",
       "  <th>Skew:</th>           <td> 4.633</td>   <th>  Prob(JB):          </th>  <td>    0.00</td>  \n",
       "</tr>\n",
       "<tr>\n",
       "  <th>Kurtosis:</th>       <td>45.883</td>   <th>  Cond. No.          </th>  <td>    181.</td>  \n",
       "</tr>\n",
       "</table><br/><br/>Notes:<br/>[1] Standard Errors assume that the covariance matrix of the errors is correctly specified."
      ],
      "text/latex": [
       "\\begin{center}\n",
       "\\begin{tabular}{lclc}\n",
       "\\toprule\n",
       "\\textbf{Dep. Variable:}    &    AQI Value     & \\textbf{  R-squared:         } &      0.975   \\\\\n",
       "\\textbf{Model:}            &       OLS        & \\textbf{  Adj. R-squared:    } &      0.975   \\\\\n",
       "\\textbf{Method:}           &  Least Squares   & \\textbf{  F-statistic:       } &  2.228e+05   \\\\\n",
       "\\textbf{Date:}             & Sat, 06 Jul 2024 & \\textbf{  Prob (F-statistic):} &      0.00    \\\\\n",
       "\\textbf{Time:}             &     18:10:55     & \\textbf{  Log-Likelihood:    } &    -83158.   \\\\\n",
       "\\textbf{No. Observations:} &       23035      & \\textbf{  AIC:               } &  1.663e+05   \\\\\n",
       "\\textbf{Df Residuals:}     &       23030      & \\textbf{  BIC:               } &  1.664e+05   \\\\\n",
       "\\textbf{Df Model:}         &           4      & \\textbf{                     } &              \\\\\n",
       "\\textbf{Covariance Type:}  &    nonrobust     & \\textbf{                     } &              \\\\\n",
       "\\bottomrule\n",
       "\\end{tabular}\n",
       "\\begin{tabular}{lcccccc}\n",
       "                         & \\textbf{coef} & \\textbf{std err} & \\textbf{t} & \\textbf{P$> |$t$|$} & \\textbf{[0.025} & \\textbf{0.975]}  \\\\\n",
       "\\midrule\n",
       "\\textbf{const}           &      -0.6432  &        0.112     &    -5.721  &         0.000        &       -0.864    &       -0.423     \\\\\n",
       "\\textbf{CO AQI Value}    &       0.0109  &        0.040     &     0.273  &         0.785        &       -0.067    &        0.089     \\\\\n",
       "\\textbf{Ozone AQI Value} &       0.1556  &        0.002     &    66.208  &         0.000        &        0.151    &        0.160     \\\\\n",
       "\\textbf{NO2 AQI Value}   &      -0.0368  &        0.014     &    -2.714  &         0.007        &       -0.063    &       -0.010     \\\\\n",
       "\\textbf{PM2.5 AQI Value} &       0.9814  &        0.001     &   772.464  &         0.000        &        0.979    &        0.984     \\\\\n",
       "\\bottomrule\n",
       "\\end{tabular}\n",
       "\\begin{tabular}{lclc}\n",
       "\\textbf{Omnibus:}       & 22523.913 & \\textbf{  Durbin-Watson:     } &      1.987   \\\\\n",
       "\\textbf{Prob(Omnibus):} &    0.000  & \\textbf{  Jarque-Bera (JB):  } & 1847377.782  \\\\\n",
       "\\textbf{Skew:}          &    4.633  & \\textbf{  Prob(JB):          } &       0.00   \\\\\n",
       "\\textbf{Kurtosis:}      &   45.883  & \\textbf{  Cond. No.          } &       181.   \\\\\n",
       "\\bottomrule\n",
       "\\end{tabular}\n",
       "%\\caption{OLS Regression Results}\n",
       "\\end{center}\n",
       "\n",
       "Notes: \\newline\n",
       " [1] Standard Errors assume that the covariance matrix of the errors is correctly specified."
      ],
      "text/plain": [
       "<class 'statsmodels.iolib.summary.Summary'>\n",
       "\"\"\"\n",
       "                            OLS Regression Results                            \n",
       "==============================================================================\n",
       "Dep. Variable:              AQI Value   R-squared:                       0.975\n",
       "Model:                            OLS   Adj. R-squared:                  0.975\n",
       "Method:                 Least Squares   F-statistic:                 2.228e+05\n",
       "Date:                Sat, 06 Jul 2024   Prob (F-statistic):               0.00\n",
       "Time:                        18:10:55   Log-Likelihood:                -83158.\n",
       "No. Observations:               23035   AIC:                         1.663e+05\n",
       "Df Residuals:                   23030   BIC:                         1.664e+05\n",
       "Df Model:                           4                                         \n",
       "Covariance Type:            nonrobust                                         \n",
       "===================================================================================\n",
       "                      coef    std err          t      P>|t|      [0.025      0.975]\n",
       "-----------------------------------------------------------------------------------\n",
       "const              -0.6432      0.112     -5.721      0.000      -0.864      -0.423\n",
       "CO AQI Value        0.0109      0.040      0.273      0.785      -0.067       0.089\n",
       "Ozone AQI Value     0.1556      0.002     66.208      0.000       0.151       0.160\n",
       "NO2 AQI Value      -0.0368      0.014     -2.714      0.007      -0.063      -0.010\n",
       "PM2.5 AQI Value     0.9814      0.001    772.464      0.000       0.979       0.984\n",
       "==============================================================================\n",
       "Omnibus:                    22523.913   Durbin-Watson:                   1.987\n",
       "Prob(Omnibus):                  0.000   Jarque-Bera (JB):          1847377.782\n",
       "Skew:                           4.633   Prob(JB):                         0.00\n",
       "Kurtosis:                      45.883   Cond. No.                         181.\n",
       "==============================================================================\n",
       "\n",
       "Notes:\n",
       "[1] Standard Errors assume that the covariance matrix of the errors is correctly specified.\n",
       "\"\"\""
      ]
     },
     "execution_count": 3,
     "metadata": {},
     "output_type": "execute_result"
    }
   ],
   "source": [
    "import statsmodels.api as sm\n",
    "\n",
    "# Define the independent variables (predictors)\n",
    "X = data[['CO AQI Value', 'Ozone AQI Value', 'NO2 AQI Value', 'PM2.5 AQI Value']]\n",
    "\n",
    "# Define the dependent variable (response)\n",
    "y = data['AQI Value']\n",
    "\n",
    "# Add a constant to the independent variables (for the intercept)\n",
    "X = sm.add_constant(X)\n",
    "\n",
    "# Fit the regression model\n",
    "model = sm.OLS(y, X).fit()\n",
    "\n",
    "# Get the model summary\n",
    "model_summary = model.summary()\n",
    "\n",
    "model_summary"
   ]
  },
  {
   "cell_type": "markdown",
   "id": "8628d484",
   "metadata": {
    "papermill": {
     "duration": 0.008955,
     "end_time": "2024-07-06T18:10:55.159932",
     "exception": false,
     "start_time": "2024-07-06T18:10:55.150977",
     "status": "completed"
    },
    "tags": []
   },
   "source": [
    "# Регресійна модель\n",
    "Далі створимо регресійну модель:"
   ]
  },
  {
   "cell_type": "code",
   "execution_count": 4,
   "id": "efa55c33",
   "metadata": {
    "execution": {
     "iopub.execute_input": "2024-07-06T18:10:55.181459Z",
     "iopub.status.busy": "2024-07-06T18:10:55.180795Z",
     "iopub.status.idle": "2024-07-06T18:10:55.236117Z",
     "shell.execute_reply": "2024-07-06T18:10:55.234656Z"
    },
    "papermill": {
     "duration": 0.070597,
     "end_time": "2024-07-06T18:10:55.239846",
     "exception": false,
     "start_time": "2024-07-06T18:10:55.169249",
     "status": "completed"
    },
    "tags": []
   },
   "outputs": [
    {
     "name": "stdout",
     "output_type": "stream",
     "text": [
      "                            OLS Regression Results                            \n",
      "==============================================================================\n",
      "Dep. Variable:              AQI Value   R-squared:                       0.975\n",
      "Model:                            OLS   Adj. R-squared:                  0.975\n",
      "Method:                 Least Squares   F-statistic:                 2.228e+05\n",
      "Date:                Sat, 06 Jul 2024   Prob (F-statistic):               0.00\n",
      "Time:                        18:10:55   Log-Likelihood:                -83158.\n",
      "No. Observations:               23035   AIC:                         1.663e+05\n",
      "Df Residuals:                   23030   BIC:                         1.664e+05\n",
      "Df Model:                           4                                         \n",
      "Covariance Type:            nonrobust                                         \n",
      "===================================================================================\n",
      "                      coef    std err          t      P>|t|      [0.025      0.975]\n",
      "-----------------------------------------------------------------------------------\n",
      "const              -0.6432      0.112     -5.721      0.000      -0.864      -0.423\n",
      "CO AQI Value        0.0109      0.040      0.273      0.785      -0.067       0.089\n",
      "Ozone AQI Value     0.1556      0.002     66.208      0.000       0.151       0.160\n",
      "NO2 AQI Value      -0.0368      0.014     -2.714      0.007      -0.063      -0.010\n",
      "PM2.5 AQI Value     0.9814      0.001    772.464      0.000       0.979       0.984\n",
      "==============================================================================\n",
      "Omnibus:                    22523.913   Durbin-Watson:                   1.987\n",
      "Prob(Omnibus):                  0.000   Jarque-Bera (JB):          1847377.782\n",
      "Skew:                           4.633   Prob(JB):                         0.00\n",
      "Kurtosis:                      45.883   Cond. No.                         181.\n",
      "==============================================================================\n",
      "\n",
      "Notes:\n",
      "[1] Standard Errors assume that the covariance matrix of the errors is correctly specified.\n"
     ]
    }
   ],
   "source": [
    "import statsmodels.api as sm\n",
    "\n",
    "# Define the independent variables (predictors)\n",
    "X = data[['CO AQI Value', 'Ozone AQI Value', 'NO2 AQI Value', 'PM2.5 AQI Value']]\n",
    "\n",
    "# Define the dependent variable (response)\n",
    "y = data['AQI Value']\n",
    "\n",
    "# Add a constant to the independent variables (for the intercept)\n",
    "X = sm.add_constant(X)\n",
    "\n",
    "# Fit the regression model\n",
    "model = sm.OLS(y, X).fit()\n",
    "\n",
    "# Get the model summary\n",
    "model_summary = model.summary()\n",
    "print(model_summary)"
   ]
  },
  {
   "cell_type": "markdown",
   "id": "492fc354",
   "metadata": {
    "papermill": {
     "duration": 0.008653,
     "end_time": "2024-07-06T18:10:55.257773",
     "exception": false,
     "start_time": "2024-07-06T18:10:55.249120",
     "status": "completed"
    },
    "tags": []
   },
   "source": [
    "На основі регресійного аналізу бачимо, що значення AQI для озону та значення AQI PM2,5 є найбільш значущими предикторами загального індексу якості повітря, AQI, обидва демонструють сильний позитивний зв’язок із AQI. Значення AQI NO2 має незначний негативний вплив на AQI, тоді як значення AQI CO не впливає суттєво на AQI. Модель пояснює 97,5% дисперсії значень AQI, що вказує на її високу ефективність."
   ]
  }
 ],
 "metadata": {
  "kaggle": {
   "accelerator": "none",
   "dataSources": [
    {
     "datasetId": 2602633,
     "sourceId": 4470781,
     "sourceType": "datasetVersion"
    }
   ],
   "dockerImageVersionId": 30732,
   "isGpuEnabled": false,
   "isInternetEnabled": false,
   "language": "python",
   "sourceType": "notebook"
  },
  "kernelspec": {
   "display_name": "Python 3",
   "language": "python",
   "name": "python3"
  },
  "language_info": {
   "codemirror_mode": {
    "name": "ipython",
    "version": 3
   },
   "file_extension": ".py",
   "mimetype": "text/x-python",
   "name": "python",
   "nbconvert_exporter": "python",
   "pygments_lexer": "ipython3",
   "version": "3.10.13"
  },
  "papermill": {
   "default_parameters": {},
   "duration": 8.84829,
   "end_time": "2024-07-06T18:10:56.005168",
   "environment_variables": {},
   "exception": null,
   "input_path": "__notebook__.ipynb",
   "output_path": "__notebook__.ipynb",
   "parameters": {},
   "start_time": "2024-07-06T18:10:47.156878",
   "version": "2.5.0"
  }
 },
 "nbformat": 4,
 "nbformat_minor": 5
}
