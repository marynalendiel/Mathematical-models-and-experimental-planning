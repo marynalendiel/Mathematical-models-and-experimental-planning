{
 "cells": [
  {
   "cell_type": "code",
   "execution_count": 1,
   "id": "3e279be2",
   "metadata": {
    "_cell_guid": "b1076dfc-b9ad-4769-8c92-a6c4dae69d19",
    "_uuid": "8f2839f25d086af736a60e9eeb907d3b93b6e0e5",
    "execution": {
     "iopub.execute_input": "2024-07-05T09:07:12.106832Z",
     "iopub.status.busy": "2024-07-05T09:07:12.105851Z",
     "iopub.status.idle": "2024-07-05T09:07:16.007832Z",
     "shell.execute_reply": "2024-07-05T09:07:16.006712Z"
    },
    "papermill": {
     "duration": 3.910599,
     "end_time": "2024-07-05T09:07:16.010601",
     "exception": false,
     "start_time": "2024-07-05T09:07:12.100002",
     "status": "completed"
    },
    "tags": []
   },
   "outputs": [],
   "source": [
    "import pandas as pd\n",
    "import numpy as np\n",
    "import statsmodels.api as sm\n",
    "\n",
    "file_path = \"/kaggle/input/global-air-pollution-dataset/global air pollution dataset.csv\"\n",
    "data = pd.read_csv(file_path)\n",
    "\n",
    "data.replace([np.inf, -np.inf], np.nan, inplace=True)\n",
    "data = data.dropna()"
   ]
  },
  {
   "cell_type": "markdown",
   "id": "85093c5c",
   "metadata": {
    "papermill": {
     "duration": 0.003445,
     "end_time": "2024-07-05T09:07:16.018216",
     "exception": false,
     "start_time": "2024-07-05T09:07:16.014771",
     "status": "completed"
    },
    "tags": []
   },
   "source": [
    "# Множинний регресійний аналіз\n",
    "Для прогнозування `AQI Value` побудуємо множинну регресійну модель на основі `CO AQI Value`, `Ozone AQI Value`, `NO2 AQI Value` і `PM2.5 AQI Value`."
   ]
  },
  {
   "cell_type": "code",
   "execution_count": 2,
   "id": "48f7b957",
   "metadata": {
    "execution": {
     "iopub.execute_input": "2024-07-05T09:07:16.027391Z",
     "iopub.status.busy": "2024-07-05T09:07:16.026825Z",
     "iopub.status.idle": "2024-07-05T09:07:16.142584Z",
     "shell.execute_reply": "2024-07-05T09:07:16.141127Z"
    },
    "papermill": {
     "duration": 0.124626,
     "end_time": "2024-07-05T09:07:16.146611",
     "exception": false,
     "start_time": "2024-07-05T09:07:16.021985",
     "status": "completed"
    },
    "tags": []
   },
   "outputs": [
    {
     "data": {
      "text/html": [
       "<table class=\"simpletable\">\n",
       "<caption>OLS Regression Results</caption>\n",
       "<tr>\n",
       "  <th>Dep. Variable:</th>        <td>AQI Value</td>    <th>  R-squared:         </th> <td>   0.975</td> \n",
       "</tr>\n",
       "<tr>\n",
       "  <th>Model:</th>                   <td>OLS</td>       <th>  Adj. R-squared:    </th> <td>   0.975</td> \n",
       "</tr>\n",
       "<tr>\n",
       "  <th>Method:</th>             <td>Least Squares</td>  <th>  F-statistic:       </th> <td>2.228e+05</td>\n",
       "</tr>\n",
       "<tr>\n",
       "  <th>Date:</th>             <td>Fri, 05 Jul 2024</td> <th>  Prob (F-statistic):</th>  <td>  0.00</td>  \n",
       "</tr>\n",
       "<tr>\n",
       "  <th>Time:</th>                 <td>09:07:16</td>     <th>  Log-Likelihood:    </th> <td> -83158.</td> \n",
       "</tr>\n",
       "<tr>\n",
       "  <th>No. Observations:</th>      <td> 23035</td>      <th>  AIC:               </th> <td>1.663e+05</td>\n",
       "</tr>\n",
       "<tr>\n",
       "  <th>Df Residuals:</th>          <td> 23030</td>      <th>  BIC:               </th> <td>1.664e+05</td>\n",
       "</tr>\n",
       "<tr>\n",
       "  <th>Df Model:</th>              <td>     4</td>      <th>                     </th>     <td> </td>    \n",
       "</tr>\n",
       "<tr>\n",
       "  <th>Covariance Type:</th>      <td>nonrobust</td>    <th>                     </th>     <td> </td>    \n",
       "</tr>\n",
       "</table>\n",
       "<table class=\"simpletable\">\n",
       "<tr>\n",
       "         <td></td>            <th>coef</th>     <th>std err</th>      <th>t</th>      <th>P>|t|</th>  <th>[0.025</th>    <th>0.975]</th>  \n",
       "</tr>\n",
       "<tr>\n",
       "  <th>const</th>           <td>   -0.6432</td> <td>    0.112</td> <td>   -5.721</td> <td> 0.000</td> <td>   -0.864</td> <td>   -0.423</td>\n",
       "</tr>\n",
       "<tr>\n",
       "  <th>CO AQI Value</th>    <td>    0.0109</td> <td>    0.040</td> <td>    0.273</td> <td> 0.785</td> <td>   -0.067</td> <td>    0.089</td>\n",
       "</tr>\n",
       "<tr>\n",
       "  <th>Ozone AQI Value</th> <td>    0.1556</td> <td>    0.002</td> <td>   66.208</td> <td> 0.000</td> <td>    0.151</td> <td>    0.160</td>\n",
       "</tr>\n",
       "<tr>\n",
       "  <th>NO2 AQI Value</th>   <td>   -0.0368</td> <td>    0.014</td> <td>   -2.714</td> <td> 0.007</td> <td>   -0.063</td> <td>   -0.010</td>\n",
       "</tr>\n",
       "<tr>\n",
       "  <th>PM2.5 AQI Value</th> <td>    0.9814</td> <td>    0.001</td> <td>  772.464</td> <td> 0.000</td> <td>    0.979</td> <td>    0.984</td>\n",
       "</tr>\n",
       "</table>\n",
       "<table class=\"simpletable\">\n",
       "<tr>\n",
       "  <th>Omnibus:</th>       <td>22523.913</td> <th>  Durbin-Watson:     </th>  <td>   1.987</td>  \n",
       "</tr>\n",
       "<tr>\n",
       "  <th>Prob(Omnibus):</th>  <td> 0.000</td>   <th>  Jarque-Bera (JB):  </th> <td>1847377.782</td>\n",
       "</tr>\n",
       "<tr>\n",
       "  <th>Skew:</th>           <td> 4.633</td>   <th>  Prob(JB):          </th>  <td>    0.00</td>  \n",
       "</tr>\n",
       "<tr>\n",
       "  <th>Kurtosis:</th>       <td>45.883</td>   <th>  Cond. No.          </th>  <td>    181.</td>  \n",
       "</tr>\n",
       "</table><br/><br/>Notes:<br/>[1] Standard Errors assume that the covariance matrix of the errors is correctly specified."
      ],
      "text/latex": [
       "\\begin{center}\n",
       "\\begin{tabular}{lclc}\n",
       "\\toprule\n",
       "\\textbf{Dep. Variable:}    &    AQI Value     & \\textbf{  R-squared:         } &      0.975   \\\\\n",
       "\\textbf{Model:}            &       OLS        & \\textbf{  Adj. R-squared:    } &      0.975   \\\\\n",
       "\\textbf{Method:}           &  Least Squares   & \\textbf{  F-statistic:       } &  2.228e+05   \\\\\n",
       "\\textbf{Date:}             & Fri, 05 Jul 2024 & \\textbf{  Prob (F-statistic):} &      0.00    \\\\\n",
       "\\textbf{Time:}             &     09:07:16     & \\textbf{  Log-Likelihood:    } &    -83158.   \\\\\n",
       "\\textbf{No. Observations:} &       23035      & \\textbf{  AIC:               } &  1.663e+05   \\\\\n",
       "\\textbf{Df Residuals:}     &       23030      & \\textbf{  BIC:               } &  1.664e+05   \\\\\n",
       "\\textbf{Df Model:}         &           4      & \\textbf{                     } &              \\\\\n",
       "\\textbf{Covariance Type:}  &    nonrobust     & \\textbf{                     } &              \\\\\n",
       "\\bottomrule\n",
       "\\end{tabular}\n",
       "\\begin{tabular}{lcccccc}\n",
       "                         & \\textbf{coef} & \\textbf{std err} & \\textbf{t} & \\textbf{P$> |$t$|$} & \\textbf{[0.025} & \\textbf{0.975]}  \\\\\n",
       "\\midrule\n",
       "\\textbf{const}           &      -0.6432  &        0.112     &    -5.721  &         0.000        &       -0.864    &       -0.423     \\\\\n",
       "\\textbf{CO AQI Value}    &       0.0109  &        0.040     &     0.273  &         0.785        &       -0.067    &        0.089     \\\\\n",
       "\\textbf{Ozone AQI Value} &       0.1556  &        0.002     &    66.208  &         0.000        &        0.151    &        0.160     \\\\\n",
       "\\textbf{NO2 AQI Value}   &      -0.0368  &        0.014     &    -2.714  &         0.007        &       -0.063    &       -0.010     \\\\\n",
       "\\textbf{PM2.5 AQI Value} &       0.9814  &        0.001     &   772.464  &         0.000        &        0.979    &        0.984     \\\\\n",
       "\\bottomrule\n",
       "\\end{tabular}\n",
       "\\begin{tabular}{lclc}\n",
       "\\textbf{Omnibus:}       & 22523.913 & \\textbf{  Durbin-Watson:     } &      1.987   \\\\\n",
       "\\textbf{Prob(Omnibus):} &    0.000  & \\textbf{  Jarque-Bera (JB):  } & 1847377.782  \\\\\n",
       "\\textbf{Skew:}          &    4.633  & \\textbf{  Prob(JB):          } &       0.00   \\\\\n",
       "\\textbf{Kurtosis:}      &   45.883  & \\textbf{  Cond. No.          } &       181.   \\\\\n",
       "\\bottomrule\n",
       "\\end{tabular}\n",
       "%\\caption{OLS Regression Results}\n",
       "\\end{center}\n",
       "\n",
       "Notes: \\newline\n",
       " [1] Standard Errors assume that the covariance matrix of the errors is correctly specified."
      ],
      "text/plain": [
       "<class 'statsmodels.iolib.summary.Summary'>\n",
       "\"\"\"\n",
       "                            OLS Regression Results                            \n",
       "==============================================================================\n",
       "Dep. Variable:              AQI Value   R-squared:                       0.975\n",
       "Model:                            OLS   Adj. R-squared:                  0.975\n",
       "Method:                 Least Squares   F-statistic:                 2.228e+05\n",
       "Date:                Fri, 05 Jul 2024   Prob (F-statistic):               0.00\n",
       "Time:                        09:07:16   Log-Likelihood:                -83158.\n",
       "No. Observations:               23035   AIC:                         1.663e+05\n",
       "Df Residuals:                   23030   BIC:                         1.664e+05\n",
       "Df Model:                           4                                         \n",
       "Covariance Type:            nonrobust                                         \n",
       "===================================================================================\n",
       "                      coef    std err          t      P>|t|      [0.025      0.975]\n",
       "-----------------------------------------------------------------------------------\n",
       "const              -0.6432      0.112     -5.721      0.000      -0.864      -0.423\n",
       "CO AQI Value        0.0109      0.040      0.273      0.785      -0.067       0.089\n",
       "Ozone AQI Value     0.1556      0.002     66.208      0.000       0.151       0.160\n",
       "NO2 AQI Value      -0.0368      0.014     -2.714      0.007      -0.063      -0.010\n",
       "PM2.5 AQI Value     0.9814      0.001    772.464      0.000       0.979       0.984\n",
       "==============================================================================\n",
       "Omnibus:                    22523.913   Durbin-Watson:                   1.987\n",
       "Prob(Omnibus):                  0.000   Jarque-Bera (JB):          1847377.782\n",
       "Skew:                           4.633   Prob(JB):                         0.00\n",
       "Kurtosis:                      45.883   Cond. No.                         181.\n",
       "==============================================================================\n",
       "\n",
       "Notes:\n",
       "[1] Standard Errors assume that the covariance matrix of the errors is correctly specified.\n",
       "\"\"\""
      ]
     },
     "execution_count": 2,
     "metadata": {},
     "output_type": "execute_result"
    }
   ],
   "source": [
    "X = data[['CO AQI Value', 'Ozone AQI Value', 'NO2 AQI Value', 'PM2.5 AQI Value']]\n",
    "y = data['AQI Value']\n",
    "\n",
    "X = sm.add_constant(X)\n",
    "\n",
    "# Fit the multiple regression model\n",
    "model = sm.OLS(y, X).fit()\n",
    "\n",
    "model.summary()"
   ]
  },
  {
   "cell_type": "markdown",
   "id": "a6ac3819",
   "metadata": {
    "papermill": {
     "duration": 0.007802,
     "end_time": "2024-07-05T09:07:16.163387",
     "exception": false,
     "start_time": "2024-07-05T09:07:16.155585",
     "status": "completed"
    },
    "tags": []
   },
   "source": [
    "Результат показує що:\n",
    "- значення R-квадрат = 0,975: 97,5% дисперсії «AQI Value» можна пояснити моделлю.\n",
    "- ключові параметри для прогнозування: `Ozone AQI Value`, `NO2 AQI Value` і `PM2.5 AQI Value` є статистично важливими параметрами для прнозу, зі значеннями p менше 0,05. `CO AQI Value` незначне."
   ]
  },
  {
   "cell_type": "markdown",
   "id": "77bb0a7f",
   "metadata": {
    "papermill": {
     "duration": 0.007808,
     "end_time": "2024-07-05T09:07:16.179746",
     "exception": false,
     "start_time": "2024-07-05T09:07:16.171938",
     "status": "completed"
    },
    "tags": []
   },
   "source": [
    "# Аналіз еластичності\n",
    "Розрахуємо еластичність для кожного ключового показника прогнозування\n",
    "\n",
    "Еластичність = $\\beta_i \\times \\frac{\\bar{x_i}}{\\bar{y}}$\n",
    "\n",
    " $\\beta_i$ — коефіцієнт незалежної змінної.\n",
    "\n",
    " $\\bar{x_i}$ — середнє значення незалежної змінної.\n",
    "\n",
    " $\\bar{y}$ — середнє значення залежної змінної.\n",
    "."
   ]
  },
  {
   "cell_type": "code",
   "execution_count": 3,
   "id": "2b738696",
   "metadata": {
    "execution": {
     "iopub.execute_input": "2024-07-05T09:07:16.199568Z",
     "iopub.status.busy": "2024-07-05T09:07:16.198932Z",
     "iopub.status.idle": "2024-07-05T09:07:16.211623Z",
     "shell.execute_reply": "2024-07-05T09:07:16.210193Z"
    },
    "papermill": {
     "duration": 0.025348,
     "end_time": "2024-07-05T09:07:16.214424",
     "exception": false,
     "start_time": "2024-07-05T09:07:16.189076",
     "status": "completed"
    },
    "tags": []
   },
   "outputs": [
    {
     "name": "stdout",
     "output_type": "stream",
     "text": [
      "Ozone AQI Value    0.075802\n",
      "NO2 AQI Value     -0.001569\n",
      "PM2.5 AQI Value    0.934452\n",
      "dtype: float64\n"
     ]
    }
   ],
   "source": [
    "# Calculate means of independent variables and dependent variable\n",
    "means = X.mean()\n",
    "mean_y = y.mean()\n",
    "\n",
    "# Calculate elasticity\n",
    "elasticity = model.params * (means / mean_y)\n",
    "\n",
    "# Filter for significant predictors\n",
    "significant_predictors = ['Ozone AQI Value', 'NO2 AQI Value', 'PM2.5 AQI Value']\n",
    "elasticity = elasticity[significant_predictors]\n",
    "\n",
    "print(elasticity)"
   ]
  },
  {
   "cell_type": "markdown",
   "id": "5172e651",
   "metadata": {
    "papermill": {
     "duration": 0.003982,
     "end_time": "2024-07-05T09:07:16.222684",
     "exception": false,
     "start_time": "2024-07-05T09:07:16.218702",
     "status": "completed"
    },
    "tags": []
   },
   "source": [
    "Отримані результати:\n",
    "\n",
    "- `Ozone AQI Value`: еластичність 0,075802 означає, що збільшення на 1% `Ozone AQI Value` пов’язане зі збільшенням `AQI Value` приблизно на 0,0758%. Це вказує на відносно низьку, але позитивну чутливість AQI до змін рівня озону.\n",
    "- `NO2 AQI Value`: еластичність -0,001569 означає, що збільшення на 1% у `NO2 AQI Value` пов’язане зі зниженням `AQI Value` приблизно на 0,0016%. Це свідчить про дуже малу негативну залежність між рівнями NO2 і загальним AQI, тобто зі збільшенням NO2 загальний AQI трохи знижується. Однак цей ефект дуже мінімальний.\n",
    "- `PM2.5 AQI Value`: еластичність 0,934452 означає, що збільшення на 1% `PM2.5 AQI Value` пов’язане зі збільшенням `AQI Value` приблизно на 0,9345%. Це вказує на дуже високу чутливість AQI до змін рівнів PM2,5, показуючи, що PM2,5 має значний вплив на загальний індекс якості повітря.\n",
    "\n",
    "Судячи з результатів серед виміряних забруднювачів PM2.5 має найбільш значний вплив на індекс якості повітря, за ним йде озон, тоді як NO2 має незначний вплив."
   ]
  },
  {
   "cell_type": "markdown",
   "id": "f47459c1",
   "metadata": {
    "papermill": {
     "duration": 0.004011,
     "end_time": "2024-07-05T09:07:16.230733",
     "exception": false,
     "start_time": "2024-07-05T09:07:16.226722",
     "status": "completed"
    },
    "tags": []
   },
   "source": [
    "# Перевірка мультиколінеарності"
   ]
  },
  {
   "cell_type": "code",
   "execution_count": 4,
   "id": "1e2137e3",
   "metadata": {
    "execution": {
     "iopub.execute_input": "2024-07-05T09:07:16.240584Z",
     "iopub.status.busy": "2024-07-05T09:07:16.240201Z",
     "iopub.status.idle": "2024-07-05T09:07:16.294487Z",
     "shell.execute_reply": "2024-07-05T09:07:16.292804Z"
    },
    "papermill": {
     "duration": 0.062817,
     "end_time": "2024-07-05T09:07:16.297642",
     "exception": false,
     "start_time": "2024-07-05T09:07:16.234825",
     "status": "completed"
    },
    "tags": []
   },
   "outputs": [
    {
     "name": "stdout",
     "output_type": "stream",
     "text": [
      "           feature       VIF\n",
      "0            const  3.638606\n",
      "1     CO AQI Value  1.551141\n",
      "2  Ozone AQI Value  1.267993\n",
      "3    NO2 AQI Value  1.475641\n",
      "4  PM2.5 AQI Value  1.408115\n"
     ]
    }
   ],
   "source": [
    "from statsmodels.stats.outliers_influence import variance_inflation_factor\n",
    "\n",
    "# Calculate VIF for each predictor\n",
    "vif_data = pd.DataFrame()\n",
    "vif_data[\"feature\"] = X.columns\n",
    "vif_data[\"VIF\"] = [variance_inflation_factor(X.values, i) for i in range(X.shape[1])]\n",
    "\n",
    "print(vif_data)"
   ]
  },
  {
   "cell_type": "markdown",
   "id": "da2e6c0b",
   "metadata": {
    "papermill": {
     "duration": 0.008451,
     "end_time": "2024-07-05T09:07:16.315147",
     "exception": false,
     "start_time": "2024-07-05T09:07:16.306696",
     "status": "completed"
    },
    "tags": []
   },
   "source": [
    "Дивлячись на отримані результати усі значення нижчі за 5, що вказує напомірну мультиколінеарність, прогностичні змінні не сильно корельовані одна з одною."
   ]
  }
 ],
 "metadata": {
  "kaggle": {
   "accelerator": "none",
   "dataSources": [
    {
     "datasetId": 2602633,
     "sourceId": 4470781,
     "sourceType": "datasetVersion"
    }
   ],
   "dockerImageVersionId": 30732,
   "isGpuEnabled": false,
   "isInternetEnabled": false,
   "language": "python",
   "sourceType": "notebook"
  },
  "kernelspec": {
   "display_name": "Python 3",
   "language": "python",
   "name": "python3"
  },
  "language_info": {
   "codemirror_mode": {
    "name": "ipython",
    "version": 3
   },
   "file_extension": ".py",
   "mimetype": "text/x-python",
   "name": "python",
   "nbconvert_exporter": "python",
   "pygments_lexer": "ipython3",
   "version": "3.10.13"
  },
  "papermill": {
   "default_parameters": {},
   "duration": 7.839605,
   "end_time": "2024-07-05T09:07:16.952270",
   "environment_variables": {},
   "exception": null,
   "input_path": "__notebook__.ipynb",
   "output_path": "__notebook__.ipynb",
   "parameters": {},
   "start_time": "2024-07-05T09:07:09.112665",
   "version": "2.5.0"
  }
 },
 "nbformat": 4,
 "nbformat_minor": 5
}
