{
 "cells": [
  {
   "cell_type": "code",
   "execution_count": 1,
   "id": "68501161",
   "metadata": {
    "_cell_guid": "b1076dfc-b9ad-4769-8c92-a6c4dae69d19",
    "_uuid": "8f2839f25d086af736a60e9eeb907d3b93b6e0e5",
    "execution": {
     "iopub.execute_input": "2024-06-28T16:11:53.374206Z",
     "iopub.status.busy": "2024-06-28T16:11:53.373724Z",
     "iopub.status.idle": "2024-06-28T16:11:57.535044Z",
     "shell.execute_reply": "2024-06-28T16:11:57.533856Z"
    },
    "papermill": {
     "duration": 4.170489,
     "end_time": "2024-06-28T16:11:57.537970",
     "exception": false,
     "start_time": "2024-06-28T16:11:53.367481",
     "status": "completed"
    },
    "tags": []
   },
   "outputs": [],
   "source": [
    "import pandas as pd\n",
    "import numpy as np\n",
    "import statsmodels.api as sm\n",
    "from statsmodels.formula.api import ols\n",
    "from statsmodels.stats.multicomp import pairwise_tukeyhsd\n",
    "import seaborn as sns\n",
    "import matplotlib.pyplot as plt\n",
    "\n",
    "file_path = \"/kaggle/input/global-air-pollution-dataset/global air pollution dataset.csv\"\n",
    "data = pd.read_csv(file_path)\n",
    "\n",
    "data.replace([np.inf, -np.inf], np.nan, inplace=True)\n",
    "data = data.dropna()"
   ]
  },
  {
   "cell_type": "code",
   "execution_count": 2,
   "id": "3305859f",
   "metadata": {
    "execution": {
     "iopub.execute_input": "2024-06-28T16:11:57.547313Z",
     "iopub.status.busy": "2024-06-28T16:11:57.546215Z",
     "iopub.status.idle": "2024-06-28T16:11:57.747037Z",
     "shell.execute_reply": "2024-06-28T16:11:57.745001Z"
    },
    "papermill": {
     "duration": 0.209676,
     "end_time": "2024-06-28T16:11:57.751360",
     "exception": false,
     "start_time": "2024-06-28T16:11:57.541684",
     "status": "completed"
    },
    "tags": []
   },
   "outputs": [
    {
     "name": "stdout",
     "output_type": "stream",
     "text": [
      "                            sum_sq       df             F  PR(>F)\n",
      "C(Q(\"AQI Category\"))  6.912410e+07      5.0  78711.140604     0.0\n",
      "Residual              4.044812e+06  23029.0           NaN     NaN\n"
     ]
    }
   ],
   "source": [
    "data['AQI Value'] = pd.to_numeric(data['AQI Value'], errors='coerce')\n",
    "\n",
    "# Drop rows with missing values in 'AQI Value' or 'AQI Category'\n",
    "data.dropna(subset=['AQI Value', 'AQI Category'], inplace=True)\n",
    "\n",
    "# Perform ANOVA\n",
    "model = ols('Q(\"AQI Value\") ~ C(Q(\"AQI Category\"))', data=data).fit()\n",
    "anova_table = sm.stats.anova_lm(model, typ=2)\n",
    "\n",
    "print(anova_table)"
   ]
  },
  {
   "cell_type": "markdown",
   "id": "d053ac9a",
   "metadata": {
    "papermill": {
     "duration": 0.006332,
     "end_time": "2024-06-28T16:11:57.765509",
     "exception": false,
     "start_time": "2024-06-28T16:11:57.759177",
     "status": "completed"
    },
    "tags": []
   },
   "source": [
    "Дивлячись на результати дисперсійного аналізу (ANOVA):\n",
    "`sum_sq` - сума квадратів для кожного джерела варіації (у моєму випадку між категоріями);\n",
    "`df` (degrees of freedom) - ступені свободи, пов'язані з джерелами варіації;\n",
    "`F` - F-статистика, яка є відношенням середнього квадратичного між групами до середнього квадратичного всередині груп;\n",
    "`PR(>F)` - p-значення, пов’язане з F-статистикою;\n",
    "`C(Q(\"AQI Category\"))` - різниця між категоріями AQI.\n",
    "P-значення (PR(>F)) для категорій AQI становить 0,0, що набагато менше, ніж типовий рівень значущості 0,05. Такі резульати показують на наявність статистично значущих відмінностей у значеннях AQI між різними категоріями AQI."
   ]
  },
  {
   "cell_type": "markdown",
   "id": "a5edbfb9",
   "metadata": {
    "papermill": {
     "duration": 0.006178,
     "end_time": "2024-06-28T16:11:57.778348",
     "exception": false,
     "start_time": "2024-06-28T16:11:57.772170",
     "status": "completed"
    },
    "tags": []
   },
   "source": [
    "Також використано тест Тьюкі, який наведено нижче."
   ]
  },
  {
   "cell_type": "code",
   "execution_count": 3,
   "id": "2fad77eb",
   "metadata": {
    "execution": {
     "iopub.execute_input": "2024-06-28T16:11:57.794546Z",
     "iopub.status.busy": "2024-06-28T16:11:57.793663Z",
     "iopub.status.idle": "2024-06-28T16:11:58.556958Z",
     "shell.execute_reply": "2024-06-28T16:11:58.555399Z"
    },
    "papermill": {
     "duration": 0.774948,
     "end_time": "2024-06-28T16:11:58.560036",
     "exception": false,
     "start_time": "2024-06-28T16:11:57.785088",
     "status": "completed"
    },
    "tags": []
   },
   "outputs": [
    {
     "name": "stdout",
     "output_type": "stream",
     "text": [
      "                          Multiple Comparison of Means - Tukey HSD, FWER=0.05                           \n",
      "========================================================================================================\n",
      "            group1                         group2              meandiff p-adj   lower     upper   reject\n",
      "--------------------------------------------------------------------------------------------------------\n",
      "                          Good                      Hazardous  404.4283   0.0  401.6685  407.1881   True\n",
      "                          Good                       Moderate   29.9532   0.0   29.4016   30.5048   True\n",
      "                          Good                      Unhealthy  130.2189   0.0  129.3293  131.1084   True\n",
      "                          Good Unhealthy for Sensitive Groups    84.692   0.0   83.6639   85.7202   True\n",
      "                          Good                 Very Unhealthy  191.6625   0.0  189.3963  193.9286   True\n",
      "                     Hazardous                       Moderate -374.4751   0.0 -377.2366 -371.7136   True\n",
      "                     Hazardous                      Unhealthy -274.2094   0.0 -277.0578 -271.3611   True\n",
      "                     Hazardous Unhealthy for Sensitive Groups -319.7363   0.0 -322.6309 -316.8417   True\n",
      "                     Hazardous                 Very Unhealthy -212.7658   0.0 -216.2953 -209.2364   True\n",
      "                      Moderate                      Unhealthy  100.2657   0.0   99.3707  101.1607   True\n",
      "                      Moderate Unhealthy for Sensitive Groups   54.7388   0.0   53.7059   55.7717   True\n",
      "                      Moderate                 Very Unhealthy  161.7092   0.0   159.441  163.9775   True\n",
      "                     Unhealthy Unhealthy for Sensitive Groups  -45.5269   0.0  -46.7734  -44.2803   True\n",
      "                     Unhealthy                 Very Unhealthy   61.4436   0.0   59.0704   63.8168   True\n",
      "Unhealthy for Sensitive Groups                 Very Unhealthy  106.9704   0.0  104.5419   109.399   True\n",
      "--------------------------------------------------------------------------------------------------------\n"
     ]
    }
   ],
   "source": [
    "tukey = pairwise_tukeyhsd(endog=data['AQI Value'], groups=data['AQI Category'], alpha=0.05)\n",
    "print(tukey)"
   ]
  },
  {
   "cell_type": "markdown",
   "id": "e8b106bf",
   "metadata": {
    "papermill": {
     "duration": 0.003817,
     "end_time": "2024-06-28T16:11:58.568153",
     "exception": false,
     "start_time": "2024-06-28T16:11:58.564336",
     "status": "completed"
    },
    "tags": []
   },
   "source": [
    "Результати тесту Тьюкі показують, що існують значні відмінності між середніми значеннями AQI для кожної пари категорій AQI. Наприклад, різниця між `Good(«Добре»)` та `Hazardous («Небезпечно»)` становить `404,4283` з довірчим інтервалом від `401,6685` до `407,1881`, і різниця досить велика.\n",
    "Різниця між `Moderate «помірним»)` і `Unhealthy «Нездоровим»` становить `100,2657` з довірчим інтервалом від `99,3707` до `101,1607`, і різниця також."
   ]
  },
  {
   "cell_type": "code",
   "execution_count": 4,
   "id": "674b0ece",
   "metadata": {
    "execution": {
     "iopub.execute_input": "2024-06-28T16:11:58.577323Z",
     "iopub.status.busy": "2024-06-28T16:11:58.576913Z",
     "iopub.status.idle": "2024-06-28T16:11:59.037416Z",
     "shell.execute_reply": "2024-06-28T16:11:59.036107Z"
    },
    "papermill": {
     "duration": 0.468267,
     "end_time": "2024-06-28T16:11:59.040046",
     "exception": false,
     "start_time": "2024-06-28T16:11:58.571779",
     "status": "completed"
    },
    "tags": []
   },
   "outputs": [
    {
     "data": {
      "image/png": "[encoded data removed]",
      "text/plain": [
       "<Figure size 1200x600 with 1 Axes>"
      ]
     },
     "metadata": {},
     "output_type": "display_data"
    }
   ],
   "source": [
    "plt.figure(figsize=(12, 6))\n",
    "sns.boxplot(x='AQI Category', y='AQI Value', data=data)\n",
    "plt.title('Distribution of AQI Values by Category')\n",
    "plt.xlabel('AQI Category')\n",
    "plt.ylabel('AQI Value')\n",
    "plt.show()"
   ]
  }
 ],
 "metadata": {
  "kaggle": {
   "accelerator": "none",
   "dataSources": [
    {
     "datasetId": 2602633,
     "sourceId": 4470781,
     "sourceType": "datasetVersion"
    }
   ],
   "dockerImageVersionId": 30732,
   "isGpuEnabled": false,
   "isInternetEnabled": false,
   "language": "python",
   "sourceType": "notebook"
  },
  "kernelspec": {
   "display_name": "Python 3",
   "language": "python",
   "name": "python3"
  },
  "language_info": {
   "codemirror_mode": {
    "name": "ipython",
    "version": 3
   },
   "file_extension": ".py",
   "mimetype": "text/x-python",
   "name": "python",
   "nbconvert_exporter": "python",
   "pygments_lexer": "ipython3",
   "version": "3.10.13"
  },
  "papermill": {
   "default_parameters": {},
   "duration": 9.428583,
   "end_time": "2024-06-28T16:11:59.665458",
   "environment_variables": {},
   "exception": null,
   "input_path": "__notebook__.ipynb",
   "output_path": "__notebook__.ipynb",
   "parameters": {},
   "start_time": "2024-06-28T16:11:50.236875",
   "version": "2.5.0"
  }
 },
 "nbformat": 4,
 "nbformat_minor": 5
}
