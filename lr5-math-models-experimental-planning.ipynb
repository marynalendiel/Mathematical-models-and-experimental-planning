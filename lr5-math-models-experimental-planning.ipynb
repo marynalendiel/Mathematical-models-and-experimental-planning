{
 "cells": [
  {
   "cell_type": "code",
   "execution_count": 1,
   "id": "de519227",
   "metadata": {
    "_cell_guid": "b1076dfc-b9ad-4769-8c92-a6c4dae69d19",
    "_uuid": "8f2839f25d086af736a60e9eeb907d3b93b6e0e5",
    "execution": {
     "iopub.execute_input": "2024-06-28T14:40:33.441400Z",
     "iopub.status.busy": "2024-06-28T14:40:33.441011Z",
     "iopub.status.idle": "2024-06-28T14:40:35.539856Z",
     "shell.execute_reply": "2024-06-28T14:40:35.538693Z"
    },
    "papermill": {
     "duration": 2.106584,
     "end_time": "2024-06-28T14:40:35.542705",
     "exception": false,
     "start_time": "2024-06-28T14:40:33.436121",
     "status": "completed"
    },
    "tags": []
   },
   "outputs": [],
   "source": [
    "import pandas as pd\n",
    "import numpy as np\n",
    "from statsmodels.stats.proportion import proportion_confint\n",
    "\n",
    "file_path = \"/kaggle/input/global-air-pollution-dataset/global air pollution dataset.csv\"\n",
    "data = pd.read_csv(file_path)\n",
    "\n",
    "data.replace([np.inf, -np.inf], np.nan, inplace=True)\n",
    "data = data.dropna()"
   ]
  },
  {
   "cell_type": "code",
   "execution_count": 2,
   "id": "c4e4a62c",
   "metadata": {
    "execution": {
     "iopub.execute_input": "2024-06-28T14:40:35.550751Z",
     "iopub.status.busy": "2024-06-28T14:40:35.550300Z",
     "iopub.status.idle": "2024-06-28T14:40:35.560117Z",
     "shell.execute_reply": "2024-06-28T14:40:35.559082Z"
    },
    "papermill": {
     "duration": 0.016287,
     "end_time": "2024-06-28T14:40:35.562301",
     "exception": false,
     "start_time": "2024-06-28T14:40:35.546014",
     "status": "completed"
    },
    "tags": []
   },
   "outputs": [
    {
     "data": {
      "text/plain": [
       "385.0"
      ]
     },
     "execution_count": 2,
     "metadata": {},
     "output_type": "execute_result"
    }
   ],
   "source": [
    "def estimate_sample_size(p, E, Z=1.96):\n",
    "    n = (Z**2 * p * (1 - p)) / E**2\n",
    "    return np.ceil(n)\n",
    "\n",
    "# розрахункова частка p (максимальна варіабельність), похибка E\n",
    "p = 0.5\n",
    "E = 0.05\n",
    "\n",
    "sample_size = estimate_sample_size(p, E)\n",
    "sample_size"
   ]
  },
  {
   "cell_type": "markdown",
   "id": "50406576",
   "metadata": {
    "papermill": {
     "duration": 0.00257,
     "end_time": "2024-06-28T14:40:35.567791",
     "exception": false,
     "start_time": "2024-06-28T14:40:35.565221",
     "status": "completed"
    },
    "tags": []
   },
   "source": [
    "Як бачимо обсяг вибірки, необхідний для досягнення похибки 0,05 з рівнем довіри 95% і розрахунковою часткою 0,5, становить 385."
   ]
  },
  {
   "cell_type": "markdown",
   "id": "6c600b22",
   "metadata": {
    "papermill": {
     "duration": 0.002449,
     "end_time": "2024-06-28T14:40:35.572916",
     "exception": false,
     "start_time": "2024-06-28T14:40:35.570467",
     "status": "completed"
    },
    "tags": []
   },
   "source": [
    "Далі оцінимо частку кожної категорії AQI (поле `AQI Category`) і розрахуємо довірчий інтервал для цієї частки за допомогою біноміального розподілу."
   ]
  },
  {
   "cell_type": "code",
   "execution_count": 3,
   "id": "684752f2",
   "metadata": {
    "execution": {
     "iopub.execute_input": "2024-06-28T14:40:35.579930Z",
     "iopub.status.busy": "2024-06-28T14:40:35.579510Z",
     "iopub.status.idle": "2024-06-28T14:40:36.990845Z",
     "shell.execute_reply": "2024-06-28T14:40:36.989554Z"
    },
    "papermill": {
     "duration": 1.41836,
     "end_time": "2024-06-28T14:40:36.993880",
     "exception": false,
     "start_time": "2024-06-28T14:40:35.575520",
     "status": "completed"
    },
    "tags": []
   },
   "outputs": [
    {
     "name": "stdout",
     "output_type": "stream",
     "text": [
      "AQI Category: Good\n",
      "Proportion: 0.4206\n",
      "95% Confidence Interval: (0.4141947133957241, 0.42697977269815246)\n",
      "\n",
      "AQI Category: Moderate\n",
      "Proportion: 0.3945\n",
      "95% Confidence Interval: (0.38819051771529467, 0.40082360759007496)\n",
      "\n",
      "AQI Category: Unhealthy\n",
      "Proportion: 0.0962\n",
      "95% Confidence Interval: (0.0923977130494913, 0.1000384197363583)\n",
      "\n",
      "AQI Category: Unhealthy for Sensitive Groups\n",
      "Proportion: 0.0681\n",
      "95% Confidence Interval: (0.06487407773769029, 0.07140759741688646)\n",
      "\n",
      "AQI Category: Very Unhealthy\n",
      "Proportion: 0.0124\n",
      "95% Confidence Interval: (0.01104170600664649, 0.01392917345478256)\n",
      "\n",
      "AQI Category: Hazardous\n",
      "Proportion: 0.0083\n",
      "95% Confidence Interval: (0.007177841765914954, 0.009544550334734081)\n",
      "\n"
     ]
    }
   ],
   "source": [
    "aqi_categories = data['AQI Category'].value_counts()\n",
    "total_count = len(data)\n",
    "\n",
    "results = {}\n",
    "\n",
    "for category, count in aqi_categories.items():\n",
    "    proportion = count / total_count\n",
    "    confidence_interval = proportion_confint(count, total_count, alpha=0.05, method='binom_test')\n",
    "    results[category] = (proportion, confidence_interval)\n",
    "\n",
    "for category, (proportion, confidence_interval) in results.items():\n",
    "    print(f\"AQI Category: {category}\")\n",
    "    print(f\"Proportion: {proportion:.4f}\")\n",
    "    print(f\"95% Confidence Interval: {confidence_interval}\\n\")"
   ]
  }
 ],
 "metadata": {
  "kaggle": {
   "accelerator": "none",
   "dataSources": [
    {
     "datasetId": 2602633,
     "sourceId": 4470781,
     "sourceType": "datasetVersion"
    }
   ],
   "dockerImageVersionId": 30732,
   "isGpuEnabled": false,
   "isInternetEnabled": false,
   "language": "python",
   "sourceType": "notebook"
  },
  "kernelspec": {
   "display_name": "Python 3",
   "language": "python",
   "name": "python3"
  },
  "language_info": {
   "codemirror_mode": {
    "name": "ipython",
    "version": 3
   },
   "file_extension": ".py",
   "mimetype": "text/x-python",
   "name": "python",
   "nbconvert_exporter": "python",
   "pygments_lexer": "ipython3",
   "version": "3.10.13"
  },
  "papermill": {
   "default_parameters": {},
   "duration": 6.949297,
   "end_time": "2024-06-28T14:40:37.517954",
   "environment_variables": {},
   "exception": null,
   "input_path": "__notebook__.ipynb",
   "output_path": "__notebook__.ipynb",
   "parameters": {},
   "start_time": "2024-06-28T14:40:30.568657",
   "version": "2.5.0"
  }
 },
 "nbformat": 4,
 "nbformat_minor": 5
}
