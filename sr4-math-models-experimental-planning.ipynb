{
 "cells": [
  {
   "cell_type": "code",
   "execution_count": 1,
   "id": "da4fd163",
   "metadata": {
    "_cell_guid": "b1076dfc-b9ad-4769-8c92-a6c4dae69d19",
    "_uuid": "8f2839f25d086af736a60e9eeb907d3b93b6e0e5",
    "execution": {
     "iopub.execute_input": "2024-07-05T09:24:29.504506Z",
     "iopub.status.busy": "2024-07-05T09:24:29.504114Z",
     "iopub.status.idle": "2024-07-05T09:24:32.809513Z",
     "shell.execute_reply": "2024-07-05T09:24:32.808392Z"
    },
    "papermill": {
     "duration": 3.313024,
     "end_time": "2024-07-05T09:24:32.812103",
     "exception": false,
     "start_time": "2024-07-05T09:24:29.499079",
     "status": "completed"
    },
    "tags": []
   },
   "outputs": [],
   "source": [
    "import pandas as pd\n",
    "import numpy as np\n",
    "import statsmodels.api as sm\n",
    "\n",
    "file_path = \"/kaggle/input/global-air-pollution-dataset/global air pollution dataset.csv\"\n",
    "data = pd.read_csv(file_path)\n",
    "\n",
    "data.replace([np.inf, -np.inf], np.nan, inplace=True)\n",
    "data = data.dropna()"
   ]
  },
  {
   "cell_type": "markdown",
   "id": "5282f63b",
   "metadata": {
    "papermill": {
     "duration": 0.00261,
     "end_time": "2024-07-05T09:24:32.817991",
     "exception": false,
     "start_time": "2024-07-05T09:24:32.815381",
     "status": "completed"
    },
    "tags": []
   },
   "source": [
    "# Багатофакторна економетрична модель"
   ]
  },
  {
   "cell_type": "code",
   "execution_count": 2,
   "id": "0173e853",
   "metadata": {
    "execution": {
     "iopub.execute_input": "2024-07-05T09:24:32.825431Z",
     "iopub.status.busy": "2024-07-05T09:24:32.825058Z",
     "iopub.status.idle": "2024-07-05T09:24:32.897463Z",
     "shell.execute_reply": "2024-07-05T09:24:32.881713Z"
    },
    "papermill": {
     "duration": 0.087004,
     "end_time": "2024-07-05T09:24:32.908044",
     "exception": false,
     "start_time": "2024-07-05T09:24:32.821040",
     "status": "completed"
    },
    "tags": []
   },
   "outputs": [
    {
     "name": "stdout",
     "output_type": "stream",
     "text": [
      "                            OLS Regression Results                            \n",
      "==============================================================================\n",
      "Dep. Variable:              AQI Value   R-squared:                       0.975\n",
      "Model:                            OLS   Adj. R-squared:                  0.975\n",
      "Method:                 Least Squares   F-statistic:                 2.971e+05\n",
      "Date:                Fri, 05 Jul 2024   Prob (F-statistic):               0.00\n",
      "Time:                        09:24:32   Log-Likelihood:                -83158.\n",
      "No. Observations:               23035   AIC:                         1.663e+05\n",
      "Df Residuals:                   23031   BIC:                         1.664e+05\n",
      "Df Model:                           3                                         \n",
      "Covariance Type:            nonrobust                                         \n",
      "===================================================================================\n",
      "                      coef    std err          t      P>|t|      [0.025      0.975]\n",
      "-----------------------------------------------------------------------------------\n",
      "const              -0.6437      0.112     -5.725      0.000      -0.864      -0.423\n",
      "Ozone AQI Value     0.1557      0.002     66.943      0.000       0.151       0.160\n",
      "NO2 AQI Value      -0.0351      0.012     -2.902      0.004      -0.059      -0.011\n",
      "PM2.5 AQI Value     0.9815      0.001    808.205      0.000       0.979       0.984\n",
      "==============================================================================\n",
      "Omnibus:                    22514.822   Durbin-Watson:                   1.987\n",
      "Prob(Omnibus):                  0.000   Jarque-Bera (JB):          1843703.887\n",
      "Skew:                           4.630   Prob(JB):                         0.00\n",
      "Kurtosis:                      45.839   Cond. No.                         181.\n",
      "==============================================================================\n",
      "\n",
      "Notes:\n",
      "[1] Standard Errors assume that the covariance matrix of the errors is correctly specified.\n"
     ]
    }
   ],
   "source": [
    "X = data[['Ozone AQI Value', 'NO2 AQI Value', 'PM2.5 AQI Value']]\n",
    "y = data['AQI Value']\n",
    "\n",
    "X = sm.add_constant(X)\n",
    "\n",
    "model = sm.OLS(y, X).fit()\n",
    "\n",
    "print(model.summary())"
   ]
  },
  {
   "cell_type": "markdown",
   "id": "db9e0ae3",
   "metadata": {
    "papermill": {
     "duration": 0.004632,
     "end_time": "2024-07-05T09:24:32.942362",
     "exception": false,
     "start_time": "2024-07-05T09:24:32.937730",
     "status": "completed"
    },
    "tags": []
   },
   "source": [
    "# Розрахунок еластичності"
   ]
  },
  {
   "cell_type": "code",
   "execution_count": 3,
   "id": "58f476e3",
   "metadata": {
    "execution": {
     "iopub.execute_input": "2024-07-05T09:24:32.954117Z",
     "iopub.status.busy": "2024-07-05T09:24:32.953578Z",
     "iopub.status.idle": "2024-07-05T09:24:32.972881Z",
     "shell.execute_reply": "2024-07-05T09:24:32.971770Z"
    },
    "papermill": {
     "duration": 0.028954,
     "end_time": "2024-07-05T09:24:32.976151",
     "exception": false,
     "start_time": "2024-07-05T09:24:32.947197",
     "status": "completed"
    },
    "tags": []
   },
   "outputs": [
    {
     "name": "stdout",
     "output_type": "stream",
     "text": [
      "Elasticity of significant predictors:\n",
      "Ozone AQI Value    0.075847\n",
      "NO2 AQI Value     -0.001498\n",
      "PM2.5 AQI Value    0.934549\n",
      "dtype: float64\n"
     ]
    }
   ],
   "source": [
    "means = X.mean()\n",
    "mean_y = y.mean()\n",
    "\n",
    "elasticity = model.params * (means / mean_y)\n",
    "\n",
    "significant_predictors = ['Ozone AQI Value', 'NO2 AQI Value', 'PM2.5 AQI Value']\n",
    "elasticity = elasticity[significant_predictors]\n",
    "\n",
    "print(\"Elasticity of significant predictors:\")\n",
    "print(elasticity)"
   ]
  },
  {
   "cell_type": "markdown",
   "id": "637310a5",
   "metadata": {
    "papermill": {
     "duration": 0.004891,
     "end_time": "2024-07-05T09:24:32.986007",
     "exception": false,
     "start_time": "2024-07-05T09:24:32.981116",
     "status": "completed"
    },
    "tags": []
   },
   "source": [
    " Додавання бінарної змінної для `AQI Category` (0 для «Добре», 1 для інших)"
   ]
  },
  {
   "cell_type": "code",
   "execution_count": 4,
   "id": "fcf2bb33",
   "metadata": {
    "execution": {
     "iopub.execute_input": "2024-07-05T09:24:32.995470Z",
     "iopub.status.busy": "2024-07-05T09:24:32.995041Z",
     "iopub.status.idle": "2024-07-05T09:24:33.035037Z",
     "shell.execute_reply": "2024-07-05T09:24:33.033868Z"
    },
    "papermill": {
     "duration": 0.047425,
     "end_time": "2024-07-05T09:24:33.038081",
     "exception": false,
     "start_time": "2024-07-05T09:24:32.990656",
     "status": "completed"
    },
    "tags": []
   },
   "outputs": [
    {
     "name": "stdout",
     "output_type": "stream",
     "text": [
      "                            OLS Regression Results                            \n",
      "==============================================================================\n",
      "Dep. Variable:              AQI Value   R-squared:                       0.976\n",
      "Model:                            OLS   Adj. R-squared:                  0.976\n",
      "Method:                 Least Squares   F-statistic:                 2.326e+05\n",
      "Date:                Fri, 05 Jul 2024   Prob (F-statistic):               0.00\n",
      "Time:                        09:24:33   Log-Likelihood:                -82674.\n",
      "No. Observations:               23035   AIC:                         1.654e+05\n",
      "Df Residuals:                   23030   BIC:                         1.654e+05\n",
      "Df Model:                           4                                         \n",
      "Covariance Type:            nonrobust                                         \n",
      "=======================================================================================\n",
      "                          coef    std err          t      P>|t|      [0.025      0.975]\n",
      "---------------------------------------------------------------------------------------\n",
      "const                   0.1899      0.113      1.677      0.094      -0.032       0.412\n",
      "Ozone AQI Value         0.1603      0.002     70.228      0.000       0.156       0.165\n",
      "NO2 AQI Value           0.0219      0.012      1.826      0.068      -0.002       0.045\n",
      "PM2.5 AQI Value         1.0028      0.001    732.883      0.000       1.000       1.005\n",
      "AQI Category Binary    -4.5500      0.145    -31.442      0.000      -4.834      -4.266\n",
      "==============================================================================\n",
      "Omnibus:                    21965.042   Durbin-Watson:                   1.983\n",
      "Prob(Omnibus):                  0.000   Jarque-Bera (JB):          1704269.228\n",
      "Skew:                           4.457   Prob(JB):                         0.00\n",
      "Kurtosis:                      44.185   Cond. No.                         247.\n",
      "==============================================================================\n",
      "\n",
      "Notes:\n",
      "[1] Standard Errors assume that the covariance matrix of the errors is correctly specified.\n"
     ]
    }
   ],
   "source": [
    "\n",
    "data['AQI Category Binary'] = np.where(data['AQI Category'] == 'Good', 0, 1)\n",
    "\n",
    "X = data[['Ozone AQI Value', 'NO2 AQI Value', 'PM2.5 AQI Value', 'AQI Category Binary']]\n",
    "X = sm.add_constant(X)\n",
    "\n",
    "model = sm.OLS(y, X).fit()\n",
    "\n",
    "print(model.summary())"
   ]
  },
  {
   "cell_type": "markdown",
   "id": "23d2564b",
   "metadata": {
    "papermill": {
     "duration": 0.004567,
     "end_time": "2024-07-05T09:24:33.047808",
     "exception": false,
     "start_time": "2024-07-05T09:24:33.043241",
     "status": "completed"
    },
    "tags": []
   },
   "source": [
    "# Повторний розрахунок еластичності"
   ]
  },
  {
   "cell_type": "code",
   "execution_count": 5,
   "id": "4fa78ed6",
   "metadata": {
    "execution": {
     "iopub.execute_input": "2024-07-05T09:24:33.061591Z",
     "iopub.status.busy": "2024-07-05T09:24:33.061074Z",
     "iopub.status.idle": "2024-07-05T09:24:33.073211Z",
     "shell.execute_reply": "2024-07-05T09:24:33.072126Z"
    },
    "papermill": {
     "duration": 0.021616,
     "end_time": "2024-07-05T09:24:33.075646",
     "exception": false,
     "start_time": "2024-07-05T09:24:33.054030",
     "status": "completed"
    },
    "tags": []
   },
   "outputs": [
    {
     "name": "stdout",
     "output_type": "stream",
     "text": [
      "Elasticity with binary variable included:\n",
      "Ozone AQI Value    0.078075\n",
      "NO2 AQI Value      0.000934\n",
      "PM2.5 AQI Value    0.954809\n",
      "dtype: float64\n"
     ]
    }
   ],
   "source": [
    "means = X.mean()\n",
    "mean_y = y.mean()\n",
    "elasticity = model.params * (means / mean_y)\n",
    "elasticity = elasticity[['Ozone AQI Value', 'NO2 AQI Value', 'PM2.5 AQI Value']]\n",
    "\n",
    "print(\"Elasticity with binary variable included:\")\n",
    "print(elasticity)"
   ]
  }
 ],
 "metadata": {
  "kaggle": {
   "accelerator": "none",
   "dataSources": [
    {
     "datasetId": 2602633,
     "sourceId": 4470781,
     "sourceType": "datasetVersion"
    }
   ],
   "dockerImageVersionId": 30732,
   "isGpuEnabled": false,
   "isInternetEnabled": false,
   "language": "python",
   "sourceType": "notebook"
  },
  "kernelspec": {
   "display_name": "Python 3",
   "language": "python",
   "name": "python3"
  },
  "language_info": {
   "codemirror_mode": {
    "name": "ipython",
    "version": 3
   },
   "file_extension": ".py",
   "mimetype": "text/x-python",
   "name": "python",
   "nbconvert_exporter": "python",
   "pygments_lexer": "ipython3",
   "version": "3.10.13"
  },
  "papermill": {
   "default_parameters": {},
   "duration": 7.069377,
   "end_time": "2024-07-05T09:24:33.705987",
   "environment_variables": {},
   "exception": null,
   "input_path": "__notebook__.ipynb",
   "output_path": "__notebook__.ipynb",
   "parameters": {},
   "start_time": "2024-07-05T09:24:26.636610",
   "version": "2.5.0"
  }
 },
 "nbformat": 4,
 "nbformat_minor": 5
}
