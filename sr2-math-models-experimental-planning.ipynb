{
 "cells": [
  {
   "cell_type": "code",
   "execution_count": 1,
   "id": "ae5a055a",
   "metadata": {
    "_cell_guid": "b1076dfc-b9ad-4769-8c92-a6c4dae69d19",
    "_uuid": "8f2839f25d086af736a60e9eeb907d3b93b6e0e5",
    "execution": {
     "iopub.execute_input": "2024-06-28T17:25:07.821449Z",
     "iopub.status.busy": "2024-06-28T17:25:07.820903Z",
     "iopub.status.idle": "2024-06-28T17:25:12.122468Z",
     "shell.execute_reply": "2024-06-28T17:25:12.121110Z"
    },
    "papermill": {
     "duration": 4.31082,
     "end_time": "2024-06-28T17:25:12.125537",
     "exception": false,
     "start_time": "2024-06-28T17:25:07.814717",
     "status": "completed"
    },
    "tags": []
   },
   "outputs": [],
   "source": [
    "import pandas as pd\n",
    "import numpy as np\n",
    "import statsmodels.api as sm\n",
    "\n",
    "file_path = \"/kaggle/input/global-air-pollution-dataset/global air pollution dataset.csv\"\n",
    "data = pd.read_csv(file_path)\n",
    "\n",
    "data.replace([np.inf, -np.inf], np.nan, inplace=True)\n",
    "data = data.dropna()"
   ]
  },
  {
   "cell_type": "markdown",
   "id": "f76d89ac",
   "metadata": {
    "papermill": {
     "duration": 0.003244,
     "end_time": "2024-06-28T17:25:12.134012",
     "exception": false,
     "start_time": "2024-06-28T17:25:12.130768",
     "status": "completed"
    },
    "tags": []
   },
   "source": [
    "Використаємо лінійну регресію (однофакторна модель), де прогнозуємо `AQI Value` використовуючи `CO AQI Value`."
   ]
  },
  {
   "cell_type": "code",
   "execution_count": 2,
   "id": "d3381aa2",
   "metadata": {
    "execution": {
     "iopub.execute_input": "2024-06-28T17:25:12.143110Z",
     "iopub.status.busy": "2024-06-28T17:25:12.142604Z",
     "iopub.status.idle": "2024-06-28T17:25:12.208644Z",
     "shell.execute_reply": "2024-06-28T17:25:12.206902Z"
    },
    "papermill": {
     "duration": 0.078082,
     "end_time": "2024-06-28T17:25:12.215591",
     "exception": false,
     "start_time": "2024-06-28T17:25:12.137509",
     "status": "completed"
    },
    "tags": []
   },
   "outputs": [
    {
     "name": "stdout",
     "output_type": "stream",
     "text": [
      "                            OLS Regression Results                            \n",
      "==============================================================================\n",
      "Dep. Variable:              AQI Value   R-squared:                       0.185\n",
      "Model:                            OLS   Adj. R-squared:                  0.185\n",
      "Method:                 Least Squares   F-statistic:                     5214.\n",
      "Date:                Fri, 28 Jun 2024   Prob (F-statistic):               0.00\n",
      "Time:                        17:25:12   Log-Likelihood:            -1.2321e+05\n",
      "No. Observations:               23035   AIC:                         2.464e+05\n",
      "Df Residuals:                   23033   BIC:                         2.464e+05\n",
      "Df Model:                           1                                         \n",
      "Covariance Type:            nonrobust                                         \n",
      "================================================================================\n",
      "                   coef    std err          t      P>|t|      [0.025      0.975]\n",
      "--------------------------------------------------------------------------------\n",
      "const           54.2810      0.418    129.746      0.000      53.461      55.101\n",
      "CO AQI Value    13.1252      0.182     72.210      0.000      12.769      13.482\n",
      "==============================================================================\n",
      "Omnibus:                    18197.166   Durbin-Watson:                   1.915\n",
      "Prob(Omnibus):                  0.000   Jarque-Bera (JB):          2106315.951\n",
      "Skew:                           3.104   Prob(JB):                         0.00\n",
      "Kurtosis:                      49.433   Cond. No.                         3.09\n",
      "==============================================================================\n",
      "\n",
      "Notes:\n",
      "[1] Standard Errors assume that the covariance matrix of the errors is correctly specified.\n"
     ]
    }
   ],
   "source": [
    "X = data['CO AQI Value']\n",
    "y = data['AQI Value']\n",
    "\n",
    "# Add a constant to the independent variables\n",
    "X = sm.add_constant(X)\n",
    "\n",
    "# Fit the OLS model\n",
    "model = sm.OLS(y, X).fit()\n",
    "\n",
    "# Print the summary of the model\n",
    "print(model.summary())"
   ]
  },
  {
   "cell_type": "markdown",
   "id": "bd274ec4",
   "metadata": {
    "papermill": {
     "duration": 0.007055,
     "end_time": "2024-06-28T17:25:12.230370",
     "exception": false,
     "start_time": "2024-06-28T17:25:12.223315",
     "status": "completed"
    },
    "tags": []
   },
   "source": [
    "Далі створимо багатофакторну економетричну модель, де прогнозуємо `AQI Value` за допомогою кількох параметрів AQI."
   ]
  },
  {
   "cell_type": "code",
   "execution_count": 3,
   "id": "a3910842",
   "metadata": {
    "execution": {
     "iopub.execute_input": "2024-06-28T17:25:12.248670Z",
     "iopub.status.busy": "2024-06-28T17:25:12.247894Z",
     "iopub.status.idle": "2024-06-28T17:25:12.341749Z",
     "shell.execute_reply": "2024-06-28T17:25:12.339982Z"
    },
    "papermill": {
     "duration": 0.109292,
     "end_time": "2024-06-28T17:25:12.346998",
     "exception": false,
     "start_time": "2024-06-28T17:25:12.237706",
     "status": "completed"
    },
    "tags": []
   },
   "outputs": [
    {
     "name": "stdout",
     "output_type": "stream",
     "text": [
      "                            OLS Regression Results                            \n",
      "==============================================================================\n",
      "Dep. Variable:              AQI Value   R-squared:                       0.975\n",
      "Model:                            OLS   Adj. R-squared:                  0.975\n",
      "Method:                 Least Squares   F-statistic:                 2.228e+05\n",
      "Date:                Fri, 28 Jun 2024   Prob (F-statistic):               0.00\n",
      "Time:                        17:25:12   Log-Likelihood:                -83158.\n",
      "No. Observations:               23035   AIC:                         1.663e+05\n",
      "Df Residuals:                   23030   BIC:                         1.664e+05\n",
      "Df Model:                           4                                         \n",
      "Covariance Type:            nonrobust                                         \n",
      "===================================================================================\n",
      "                      coef    std err          t      P>|t|      [0.025      0.975]\n",
      "-----------------------------------------------------------------------------------\n",
      "const              -0.6432      0.112     -5.721      0.000      -0.864      -0.423\n",
      "CO AQI Value        0.0109      0.040      0.273      0.785      -0.067       0.089\n",
      "Ozone AQI Value     0.1556      0.002     66.208      0.000       0.151       0.160\n",
      "NO2 AQI Value      -0.0368      0.014     -2.714      0.007      -0.063      -0.010\n",
      "PM2.5 AQI Value     0.9814      0.001    772.464      0.000       0.979       0.984\n",
      "==============================================================================\n",
      "Omnibus:                    22523.913   Durbin-Watson:                   1.987\n",
      "Prob(Omnibus):                  0.000   Jarque-Bera (JB):          1847377.782\n",
      "Skew:                           4.633   Prob(JB):                         0.00\n",
      "Kurtosis:                      45.883   Cond. No.                         181.\n",
      "==============================================================================\n",
      "\n",
      "Notes:\n",
      "[1] Standard Errors assume that the covariance matrix of the errors is correctly specified.\n"
     ]
    }
   ],
   "source": [
    "data.dropna(subset=['AQI Value', 'CO AQI Value', 'Ozone AQI Value', 'NO2 AQI Value', 'PM2.5 AQI Value'], inplace=True)\n",
    "\n",
    "# Define the dependent and independent variables\n",
    "X = data[['CO AQI Value', 'Ozone AQI Value', 'NO2 AQI Value', 'PM2.5 AQI Value']]\n",
    "y = data['AQI Value']\n",
    "\n",
    "# Add a constant to the independent variables\n",
    "X = sm.add_constant(X)\n",
    "\n",
    "# Fit the OLS model\n",
    "model = sm.OLS(y, X).fit()\n",
    "\n",
    "# Print the summary of the model\n",
    "print(model.summary())"
   ]
  },
  {
   "cell_type": "markdown",
   "id": "7a3150b7",
   "metadata": {
    "papermill": {
     "duration": 0.007198,
     "end_time": "2024-06-28T17:25:12.362876",
     "exception": false,
     "start_time": "2024-06-28T17:25:12.355678",
     "status": "completed"
    },
    "tags": []
   },
   "source": [
    "Також використаємо нелінійну регресію, наприклад поліноміальну регресію."
   ]
  },
  {
   "cell_type": "code",
   "execution_count": 4,
   "id": "2c277c32",
   "metadata": {
    "execution": {
     "iopub.execute_input": "2024-06-28T17:25:12.381818Z",
     "iopub.status.busy": "2024-06-28T17:25:12.380791Z",
     "iopub.status.idle": "2024-06-28T17:25:12.551416Z",
     "shell.execute_reply": "2024-06-28T17:25:12.549672Z"
    },
    "papermill": {
     "duration": 0.186015,
     "end_time": "2024-06-28T17:25:12.556708",
     "exception": false,
     "start_time": "2024-06-28T17:25:12.370693",
     "status": "completed"
    },
    "tags": []
   },
   "outputs": [
    {
     "name": "stdout",
     "output_type": "stream",
     "text": [
      "                            OLS Regression Results                            \n",
      "==============================================================================\n",
      "Dep. Variable:              AQI Value   R-squared:                       0.238\n",
      "Model:                            OLS   Adj. R-squared:                  0.238\n",
      "Method:                 Least Squares   F-statistic:                     3594.\n",
      "Date:                Fri, 28 Jun 2024   Prob (F-statistic):               0.00\n",
      "Time:                        17:25:12   Log-Likelihood:            -1.2243e+05\n",
      "No. Observations:               23035   AIC:                         2.449e+05\n",
      "Df Residuals:                   23032   BIC:                         2.449e+05\n",
      "Df Model:                           2                                         \n",
      "Covariance Type:            nonrobust                                         \n",
      "==============================================================================\n",
      "                 coef    std err          t      P>|t|      [0.025      0.975]\n",
      "------------------------------------------------------------------------------\n",
      "const         46.3328      0.450    102.874      0.000      45.450      47.216\n",
      "x1            19.4381      0.236     82.409      0.000      18.976      19.900\n",
      "x2            -0.1397      0.003    -40.123      0.000      -0.146      -0.133\n",
      "==============================================================================\n",
      "Omnibus:                    20896.481   Durbin-Watson:                   1.911\n",
      "Prob(Omnibus):                  0.000   Jarque-Bera (JB):          1012643.308\n",
      "Skew:                           4.285   Prob(JB):                         0.00\n",
      "Kurtosis:                      34.331   Cond. No.                         186.\n",
      "==============================================================================\n",
      "\n",
      "Notes:\n",
      "[1] Standard Errors assume that the covariance matrix of the errors is correctly specified.\n"
     ]
    }
   ],
   "source": [
    "from sklearn.preprocessing import PolynomialFeatures\n",
    "\n",
    "# Define the dependent and independent variables\n",
    "X = data['CO AQI Value'].values.reshape(-1, 1)\n",
    "y = data['AQI Value']\n",
    "\n",
    "# Transform the independent variable into a polynomial\n",
    "poly = PolynomialFeatures(degree=2)\n",
    "X_poly = poly.fit_transform(X)\n",
    "\n",
    "# Fit the OLS model\n",
    "model = sm.OLS(y, X_poly).fit()\n",
    "\n",
    "# Print the summary of the model\n",
    "print(model.summary())"
   ]
  }
 ],
 "metadata": {
  "kaggle": {
   "accelerator": "none",
   "dataSources": [
    {
     "datasetId": 2602633,
     "sourceId": 4470781,
     "sourceType": "datasetVersion"
    }
   ],
   "dockerImageVersionId": 30732,
   "isGpuEnabled": false,
   "isInternetEnabled": false,
   "language": "python",
   "sourceType": "notebook"
  },
  "kernelspec": {
   "display_name": "Python 3",
   "language": "python",
   "name": "python3"
  },
  "language_info": {
   "codemirror_mode": {
    "name": "ipython",
    "version": 3
   },
   "file_extension": ".py",
   "mimetype": "text/x-python",
   "name": "python",
   "nbconvert_exporter": "python",
   "pygments_lexer": "ipython3",
   "version": "3.10.13"
  },
  "papermill": {
   "default_parameters": {},
   "duration": 9.122798,
   "end_time": "2024-06-28T17:25:13.596796",
   "environment_variables": {},
   "exception": null,
   "input_path": "__notebook__.ipynb",
   "output_path": "__notebook__.ipynb",
   "parameters": {},
   "start_time": "2024-06-28T17:25:04.473998",
   "version": "2.5.0"
  }
 },
 "nbformat": 4,
 "nbformat_minor": 5
}
